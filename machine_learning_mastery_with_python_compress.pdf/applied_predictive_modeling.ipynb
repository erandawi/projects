{
 "cells": [
  {
   "cell_type": "markdown",
   "id": "4bed0ae7",
   "metadata": {},
   "source": [
    "# Predictive Modeling Project Template"
   ]
  },
  {
   "cell_type": "markdown",
   "id": "31a127aa",
   "metadata": {},
   "source": [
    "#### Machine Learning Project Template - predictive modeling\n",
    "\n",
    "1. Prepare Problem\n",
    "    -   Loadlibraries\n",
    "            -   Python modules, classes and functions that you intend to use \n",
    "    -   Load dataset\n",
    "            -   Loading your dataset from CSV\n",
    "2. Summize Data\n",
    "    -   Descriptive statistics\n",
    "            -   Descriptive statistics such as summaries\n",
    "    -   Data visualizations\n",
    "            -   Data visualizations such as plots with Matplotlib, ideally using convenience functions from Pandas\n",
    "3. Prepare Data\n",
    "    -   Data Cleaning\n",
    "            -   Cleaning data by removing duplicates, marking missing values and even imputing missing values\n",
    "    -   Feature Selection\n",
    "            -   Feature selection where redundant features may be removed and new features developed\n",
    "    -   Data Transforms\n",
    "            -   Data transforms where attributes are scaled or redistributed in order to best expose the structure of the problem later to learning algorithms\n",
    "4. Evaluate Algorithms\n",
    "    -   Split-out validation dataset\n",
    "            -   Separating out a validation dataset to use for later confirmation of the skill of your developed model\n",
    "    -   Test options and evaluation metric\n",
    "            -   Defining test options using scikit-learn such as cross validation and the evaluation metric to use\n",
    "    -   Spot Check Algorithms\n",
    "            -   Spot-checking a suite of linear and nonlinear machine learning algorithms\n",
    "    -   Compare Algorithms\n",
    "            -   Comparing the estimated accuracy of algorithms\n",
    "5. Improve Accuracy\n",
    "    -   Algorithm Tuning\n",
    "            -   Search for a combination of parameters for each algorithm using scikit-learn that yields the best results\n",
    "    -   Ensembles\n",
    "            -   Combine the prediction of multiple models into an ensemble prediction using ensemble techniques\n",
    "6. Finale Model\n",
    "    -   Predictions on validation dataset\n",
    "            -   Using an optimal model tuned by scikit-learn to make predictions on unseen data\n",
    "    -   Create standalone model oentire training dataset\n",
    "            -   Creating a standalone model using the parameters tuned by scikit-learn\n",
    "    -   Save model for later use\n",
    "            -   Saving an optimal model to file for later use"
   ]
  },
  {
   "cell_type": "markdown",
   "id": "2c097a94",
   "metadata": {},
   "source": []
  }
 ],
 "metadata": {
  "language_info": {
   "name": "python"
  }
 },
 "nbformat": 4,
 "nbformat_minor": 5
}
